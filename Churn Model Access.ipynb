{
 "cells": [
  {
   "cell_type": "markdown",
   "metadata": {
    "collapsed": true
   },
   "source": [
    "## Access an ML model\n"
   ]
  },
  {
   "cell_type": "code",
   "execution_count": null,
   "metadata": {},
   "outputs": [],
   "source": [
    "import urllib3, requests, json\n",
    "\n",
    "# retrieve your wml_service_credentials_username, wml_service_credentials_password, and wml_service_credentials_url from the\n",
    "# Service credentials associated with your IBM Cloud Watson Machine Learning Service instance\n",
    "\n",
    "wml_credentials={\n",
    "  \"url\": \"https://ibm-watson-ml.mybluemix.net\",\n",
    "  \"username\": \"4974cdce-8488-47de-aa09-e0e14891e85a\",\n",
    "  \"password\": \"59f1a49a-8eec-4e30-82f2-75ef52513e49\",\n",
    "  \"instance_id\": \"73ca0d52-f13f-449e-9d6f-a1314cfdc50c\"\n",
    "}\n",
    "\n",
    "headers = urllib3.util.make_headers(basic_auth='{username}:{password}'.format(username=wml_credentials['username'], \n",
    "                                                                              password=wml_credentials['password']))\n",
    "url = '{}/v3/identity/token'.format(wml_credentials['url'])\n",
    "response = requests.get(url, headers=headers)\n",
    "mltoken = json.loads(response.text).get('token')\n",
    "\n",
    "header = {'Content-Type': 'application/json', 'Authorization': 'Bearer ' + mltoken}"
   ]
  },
  {
   "cell_type": "code",
   "execution_count": null,
   "metadata": {},
   "outputs": [],
   "source": [
    "# Customer 1: \"T\", Customer 6: \"F\"\n",
    "cust_1 = [1,\"F\",\"S\",1.000000,38000.000000,\"N\",24.393333,23.560000,0.000000,206.080000,0.000000,\"CC\",\"Budget\",\"Intnl_discount\",229.640000,3.000000]\n",
    "cust_6 = [6,\"M\",\"M\",2.000000,29616.000000,\"N\",49.426667,29.780000,0.000000,45.500000,0.000000,\"CH\",\"FreeLocal\",\"Standard\",75.290000,2.000000]"
   ]
  },
  {
   "cell_type": "code",
   "execution_count": null,
   "metadata": {},
   "outputs": [],
   "source": [
    "# NOTE: manually define and pass the array(s) of values to be scored in the next line\n",
    "payload_scoring = {\"fields\": [\"ID\", \"Gender\", \"Status\", \"Children\", \"Est Income\", \"Car Owner\", \"Age\", \"LongDistance\", \"International\", \"Local\", \"Dropped\", \"Paymethod\", \"LocalBilltype\", \"LongDistanceBilltype\", \"Usage\", \"RatePlan\"], \"values\": [cust_1, cust_6]}\n",
    "\n",
    "response_scoring = requests.post('https://ibm-watson-ml.mybluemix.net/v3/wml_instances/73ca0d52-f13f-449e-9d6f-a1314cfdc50c/published_models/2d053d91-66e1-4ab9-a985-cdb3046d8b0f/deployments/cf12a0ba-2d53-4aba-818a-412d4b7b1559/online', json=payload_scoring, headers=header)\n",
    "print(\"Scoring response\")\n",
    "doc = json.loads(response_scoring.text)\n",
    "print(doc)"
   ]
  },
  {
   "cell_type": "code",
   "execution_count": null,
   "metadata": {},
   "outputs": [],
   "source": [
    "print(doc['fields'][18:21])\n",
    "print(\"ID: \" + str(doc['values'][0][0]))\n",
    "print(doc['values'][0][18:21])\n",
    "print(\"ID: \" + str(doc['values'][1][0]))\n",
    "print(doc['values'][1][18:21])"
   ]
  },
  {
   "cell_type": "code",
   "execution_count": null,
   "metadata": {},
   "outputs": [],
   "source": []
  }
 ],
 "metadata": {
  "kernelspec": {
   "display_name": "Python 3.5",
   "language": "python",
   "name": "python3"
  },
  "language_info": {
   "codemirror_mode": {
    "name": "ipython",
    "version": 3
   },
   "file_extension": ".py",
   "mimetype": "text/x-python",
   "name": "python",
   "nbconvert_exporter": "python",
   "pygments_lexer": "ipython3",
   "version": "3.5.4"
  }
 },
 "nbformat": 4,
 "nbformat_minor": 1
}
